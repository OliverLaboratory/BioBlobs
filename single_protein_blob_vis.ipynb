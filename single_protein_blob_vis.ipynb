{
 "cells": [
  {
   "cell_type": "markdown",
   "id": "24b5ba01",
   "metadata": {},
   "source": [
    "## Visualize Blob in a Single Protein\n",
    "\n",
    "This notebook extract the blob composition from the result file and create chimerax commands for visualization."
   ]
  },
  {
   "cell_type": "code",
   "execution_count": 1,
   "id": "184944d1",
   "metadata": {},
   "outputs": [],
   "source": [
    "import json"
   ]
  },
  {
   "cell_type": "code",
   "execution_count": 3,
   "id": "4d70f4eb",
   "metadata": {},
   "outputs": [
    {
     "name": "stdout",
     "output_type": "stream",
     "text": [
      "dict_keys(['protein_analyses', 'aggregated_stats', 'metadata'])\n"
     ]
    }
   ],
   "source": [
    "inter_json_path = \"outputs/codebook-resume/enzymecommission/structure/2025-09-19-12-42-17/interpretability/partoken_final.json\"\n",
    "inter_dict = json.load(open(inter_json_path, \"r\"))\n",
    "print(inter_dict.keys())"
   ]
  },
  {
   "cell_type": "markdown",
   "id": "0274d561",
   "metadata": {},
   "source": [
    "### Aggregated Results"
   ]
  },
  {
   "cell_type": "code",
   "execution_count": 8,
   "id": "87001413",
   "metadata": {},
   "outputs": [
    {
     "name": "stdout",
     "output_type": "stream",
     "text": [
      "total_proteins 1556\n",
      "accuracy 0.6902313624678663\n",
      "avg_confidence 0.6735339567907979\n",
      "avg_clusters_per_protein 4.987146529562982\n",
      "avg_importance_concentration 0.33428449563289575\n",
      "avg_coverage 0.347267196728633\n",
      "avg_cluster_size 14.575454785273624\n",
      "avg_max_importance 0.4698982443194837\n",
      "correct_vs_incorrect {'correct': {'count': 1074, 'avg_confidence': 0.7069598569827816, 'avg_concentration': 0.335618876538543}, 'incorrect': {'count': 482, 'avg_confidence': 0.5990538389356305, 'avg_concentration': 0.33131120705890166}}\n"
     ]
    }
   ],
   "source": [
    "for k, v in inter_dict['aggregated_stats'].items():\n",
    "    print(k, v)"
   ]
  },
  {
   "cell_type": "markdown",
   "id": "548daafe",
   "metadata": {},
   "source": [
    "### Single Protein Result "
   ]
  },
  {
   "cell_type": "code",
   "execution_count": 12,
   "id": "d0f2b6a1",
   "metadata": {},
   "outputs": [
    {
     "name": "stdout",
     "output_type": "stream",
     "text": [
      "protein_idx 0\n",
      "prediction 2\n",
      "true_label 2\n",
      "probabilities [0.0259123332798481, 0.11287898570299149, 0.7317851185798645, 0.06568598747253418, 0.04295209050178528, 0.00814878847450018, 0.01263667456805706]\n",
      "confidence 0.7317851185798645\n",
      "is_correct True\n",
      "num_valid_clusters 5\n",
      "cluster_sizes [15.0, 15.0, 15.0, 15.0, 8.0]\n",
      "importance_scores [0.2417275756597519, 0.25, 0.2582629919052124, 0.25, 9.436298569198698e-06]\n",
      "importance_concentration 0.1387512445609932\n",
      "all_clusters {'indices': [2, 1, 3, 0, 4], 'importance_scores': [0.2582629919052124, 0.25, 0.25, 0.2417275756597519, 9.436298569198698e-06], 'sizes': [15.0, 15.0, 15.0, 15.0, 8.0]}\n",
      "cluster_composition {'2': [15, 16, 17, 18, 19, 20, 21, 22, 23, 24, 26, 96, 99, 100, 101], '1': [62, 63, 64, 65, 66, 67, 71, 72, 73, 74, 75, 76, 77, 78, 79], '3': [41, 42, 43, 44, 45, 46, 47, 48, 49, 50, 51, 52, 53, 54, 57], '0': [1, 27, 28, 29, 30, 31, 32, 33, 34, 35, 36, 37, 38, 39, 40], '4': [58, 59, 60, 61, 68, 69, 70, 80]}\n",
      "batch_idx 0\n",
      "global_protein_idx 0\n"
     ]
    }
   ],
   "source": [
    "# display the first protein in the test ste \n",
    "first_protein = inter_dict['protein_analyses'][0]\n",
    "for k, v in first_protein.items():\n",
    "    print(k, v)"
   ]
  },
  {
   "cell_type": "markdown",
   "id": "632380fc",
   "metadata": {},
   "source": [
    "## Visualizing Blob Partition"
   ]
  },
  {
   "cell_type": "code",
   "execution_count": 9,
   "id": "16ed5a11",
   "metadata": {},
   "outputs": [],
   "source": [
    "# Add a new Python cell after the existing one (e.g., after #VSC-9e20bca7) with the following code:\n",
    "color_list = ['#ff4500', '#90ee90', '#40e0d0', '#daa520', '#ff69b4']\n",
    "\n",
    "def generate_chimerax_select_commands(cluster_composition, model_id=1, chain='A'):\n",
    "    \"\"\"\n",
    "    Generate ChimeraX select commands for each cluster based on residue lists.\n",
    "    \n",
    "    Args:\n",
    "        cluster_composition (dict): Dictionary with cluster names as keys and lists of residue numbers as values.\n",
    "        model_id (int): Model number in ChimeraX (default 1).\n",
    "        chain (str): Chain identifier (default 'A').\n",
    "    \n",
    "    Returns:\n",
    "        dict: Dictionary with cluster names as keys and select commands as values.\n",
    "    \"\"\"\n",
    "    commands = {}\n",
    "    for cluster, residues in cluster_composition.items():\n",
    "        residues_sorted = sorted(residues)\n",
    "        residue_str = ','.join(map(str, residues_sorted))\n",
    "        select_command = f\"select #{model_id}/{chain}:{residue_str}\"\n",
    "        commands[cluster] = select_command\n",
    "    return commands\n"
   ]
  },
  {
   "cell_type": "code",
   "execution_count": 13,
   "id": "735b1678",
   "metadata": {},
   "outputs": [
    {
     "name": "stdout",
     "output_type": "stream",
     "text": [
      "dict_keys(['protein_idx', 'prediction', 'true_label', 'probabilities', 'confidence', 'is_correct', 'num_valid_clusters', 'cluster_sizes', 'importance_scores', 'importance_concentration', 'all_clusters', 'cluster_composition', 'batch_idx', 'global_protein_idx'])\n",
      "{'2': [11, 12, 29, 30, 33, 44, 45, 46, 47, 48, 49, 50, 51, 52, 53], '4': [123, 124, 125, 126, 127, 128, 129, 130, 131, 132, 133, 134, 135, 136, 137], '0': [0, 1, 2, 3, 4, 5, 6, 7, 8, 9, 10, 40, 41, 42, 43], '1': [13, 14, 15, 16, 17, 18, 19, 20, 21, 22, 23, 24, 25, 26, 57], '3': [60, 61, 62, 67, 68, 69, 70, 71, 72, 73, 74, 75, 76, 77, 93]}\n",
      "color #2 gray\n",
      "Cluster 0:\n",
      " select #2/A:0,1,2,3,4,5,6,7,8,9,10,40,41,42,43\n",
      "color sel #ff4500\n",
      "Cluster 1:\n",
      " select #2/A:13,14,15,16,17,18,19,20,21,22,23,24,25,26,57\n",
      "color sel #90ee90\n",
      "Cluster 2:\n",
      " select #2/A:11,12,29,30,33,44,45,46,47,48,49,50,51,52,53\n",
      "color sel #40e0d0\n",
      "Cluster 3:\n",
      " select #2/A:60,61,62,67,68,69,70,71,72,73,74,75,76,77,93\n",
      "color sel #daa520\n",
      "Cluster 4:\n",
      " select #2/A:123,124,125,126,127,128,129,130,131,132,133,134,135,136,137\n",
      "color sel #ff69b4\n"
     ]
    }
   ],
   "source": [
    "item_index = 2\n",
    "protein_analysis = inter_dict['protein_analyses']\n",
    "protein = protein_analysis[2]\n",
    "print(first_protein.keys())\n",
    "# cluster composition\n",
    "print(protein['cluster_composition'])\n",
    "cluster_composition = protein['cluster_composition']\n",
    "commands = generate_chimerax_select_commands(cluster_composition, item_index)\n",
    "print(f\"color #{item_index} gray\")\n",
    "for cluster, cmd in sorted(commands.items(), key=lambda x: int(x[0])):\n",
    "    color = color_list[int(cluster)]\n",
    "    print(f\"Cluster {cluster}:\\n {cmd}\")\n",
    "    print(f\"color sel {color}\")"
   ]
  }
 ],
 "metadata": {
  "kernelspec": {
   "display_name": "partoken",
   "language": "python",
   "name": "python3"
  },
  "language_info": {
   "codemirror_mode": {
    "name": "ipython",
    "version": 3
   },
   "file_extension": ".py",
   "mimetype": "text/x-python",
   "name": "python",
   "nbconvert_exporter": "python",
   "pygments_lexer": "ipython3",
   "version": "3.12.11"
  }
 },
 "nbformat": 4,
 "nbformat_minor": 5
}
